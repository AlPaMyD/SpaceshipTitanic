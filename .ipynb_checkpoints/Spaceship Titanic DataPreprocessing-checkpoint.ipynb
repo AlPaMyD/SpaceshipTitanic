{
 "cells": [
  {
   "cell_type": "code",
   "execution_count": 1,
   "id": "0a30c32d",
   "metadata": {},
   "outputs": [],
   "source": [
    "import pandas as pd\n",
    "from numpy.random import choice\n",
    "train = pd.read_csv(r'C:\\Users\\Программирование\\Desktop\\Spaceship Titanic\\train.csv')"
   ]
  },
  {
   "cell_type": "code",
   "execution_count": 2,
   "id": "0bb56416",
   "metadata": {},
   "outputs": [
    {
     "data": {
      "text/html": [
       "<div>\n",
       "<style scoped>\n",
       "    .dataframe tbody tr th:only-of-type {\n",
       "        vertical-align: middle;\n",
       "    }\n",
       "\n",
       "    .dataframe tbody tr th {\n",
       "        vertical-align: top;\n",
       "    }\n",
       "\n",
       "    .dataframe thead th {\n",
       "        text-align: right;\n",
       "    }\n",
       "</style>\n",
       "<table border=\"1\" class=\"dataframe\">\n",
       "  <thead>\n",
       "    <tr style=\"text-align: right;\">\n",
       "      <th></th>\n",
       "      <th>PassengerId</th>\n",
       "      <th>HomePlanet</th>\n",
       "      <th>CryoSleep</th>\n",
       "      <th>Cabin</th>\n",
       "      <th>Destination</th>\n",
       "      <th>Age</th>\n",
       "      <th>VIP</th>\n",
       "      <th>RoomService</th>\n",
       "      <th>FoodCourt</th>\n",
       "      <th>ShoppingMall</th>\n",
       "      <th>Spa</th>\n",
       "      <th>VRDeck</th>\n",
       "      <th>Name</th>\n",
       "      <th>Transported</th>\n",
       "    </tr>\n",
       "  </thead>\n",
       "  <tbody>\n",
       "    <tr>\n",
       "      <th>0</th>\n",
       "      <td>0001_01</td>\n",
       "      <td>Europa</td>\n",
       "      <td>False</td>\n",
       "      <td>B/0/P</td>\n",
       "      <td>TRAPPIST-1e</td>\n",
       "      <td>39.0</td>\n",
       "      <td>False</td>\n",
       "      <td>0.0</td>\n",
       "      <td>0.0</td>\n",
       "      <td>0.0</td>\n",
       "      <td>0.0</td>\n",
       "      <td>0.0</td>\n",
       "      <td>Maham Ofracculy</td>\n",
       "      <td>False</td>\n",
       "    </tr>\n",
       "    <tr>\n",
       "      <th>1</th>\n",
       "      <td>0002_01</td>\n",
       "      <td>Earth</td>\n",
       "      <td>False</td>\n",
       "      <td>F/0/S</td>\n",
       "      <td>TRAPPIST-1e</td>\n",
       "      <td>24.0</td>\n",
       "      <td>False</td>\n",
       "      <td>109.0</td>\n",
       "      <td>9.0</td>\n",
       "      <td>25.0</td>\n",
       "      <td>549.0</td>\n",
       "      <td>44.0</td>\n",
       "      <td>Juanna Vines</td>\n",
       "      <td>True</td>\n",
       "    </tr>\n",
       "    <tr>\n",
       "      <th>2</th>\n",
       "      <td>0003_01</td>\n",
       "      <td>Europa</td>\n",
       "      <td>False</td>\n",
       "      <td>A/0/S</td>\n",
       "      <td>TRAPPIST-1e</td>\n",
       "      <td>58.0</td>\n",
       "      <td>True</td>\n",
       "      <td>43.0</td>\n",
       "      <td>3576.0</td>\n",
       "      <td>0.0</td>\n",
       "      <td>6715.0</td>\n",
       "      <td>49.0</td>\n",
       "      <td>Altark Susent</td>\n",
       "      <td>False</td>\n",
       "    </tr>\n",
       "    <tr>\n",
       "      <th>3</th>\n",
       "      <td>0003_02</td>\n",
       "      <td>Europa</td>\n",
       "      <td>False</td>\n",
       "      <td>A/0/S</td>\n",
       "      <td>TRAPPIST-1e</td>\n",
       "      <td>33.0</td>\n",
       "      <td>False</td>\n",
       "      <td>0.0</td>\n",
       "      <td>1283.0</td>\n",
       "      <td>371.0</td>\n",
       "      <td>3329.0</td>\n",
       "      <td>193.0</td>\n",
       "      <td>Solam Susent</td>\n",
       "      <td>False</td>\n",
       "    </tr>\n",
       "    <tr>\n",
       "      <th>4</th>\n",
       "      <td>0004_01</td>\n",
       "      <td>Earth</td>\n",
       "      <td>False</td>\n",
       "      <td>F/1/S</td>\n",
       "      <td>TRAPPIST-1e</td>\n",
       "      <td>16.0</td>\n",
       "      <td>False</td>\n",
       "      <td>303.0</td>\n",
       "      <td>70.0</td>\n",
       "      <td>151.0</td>\n",
       "      <td>565.0</td>\n",
       "      <td>2.0</td>\n",
       "      <td>Willy Santantines</td>\n",
       "      <td>True</td>\n",
       "    </tr>\n",
       "  </tbody>\n",
       "</table>\n",
       "</div>"
      ],
      "text/plain": [
       "  PassengerId HomePlanet CryoSleep  Cabin  Destination   Age    VIP  \\\n",
       "0     0001_01     Europa     False  B/0/P  TRAPPIST-1e  39.0  False   \n",
       "1     0002_01      Earth     False  F/0/S  TRAPPIST-1e  24.0  False   \n",
       "2     0003_01     Europa     False  A/0/S  TRAPPIST-1e  58.0   True   \n",
       "3     0003_02     Europa     False  A/0/S  TRAPPIST-1e  33.0  False   \n",
       "4     0004_01      Earth     False  F/1/S  TRAPPIST-1e  16.0  False   \n",
       "\n",
       "   RoomService  FoodCourt  ShoppingMall     Spa  VRDeck               Name  \\\n",
       "0          0.0        0.0           0.0     0.0     0.0    Maham Ofracculy   \n",
       "1        109.0        9.0          25.0   549.0    44.0       Juanna Vines   \n",
       "2         43.0     3576.0           0.0  6715.0    49.0      Altark Susent   \n",
       "3          0.0     1283.0         371.0  3329.0   193.0       Solam Susent   \n",
       "4        303.0       70.0         151.0   565.0     2.0  Willy Santantines   \n",
       "\n",
       "   Transported  \n",
       "0        False  \n",
       "1         True  \n",
       "2        False  \n",
       "3        False  \n",
       "4         True  "
      ]
     },
     "execution_count": 2,
     "metadata": {},
     "output_type": "execute_result"
    }
   ],
   "source": [
    "train.head()"
   ]
  },
  {
   "cell_type": "code",
   "execution_count": 6,
   "id": "2ff1f944",
   "metadata": {
    "scrolled": true
   },
   "outputs": [
    {
     "name": "stdout",
     "output_type": "stream",
     "text": [
      "PassengerId\n",
      "['0001_01' '0002_01' '0003_01' ... '9279_01' '9280_01' '9280_02']\n",
      "HomePlanet\n",
      "['Europa' 'Earth' 'Mars' nan]\n",
      "CryoSleep\n",
      "[False True nan]\n",
      "Cabin\n",
      "['B/0/P' 'F/0/S' 'A/0/S' ... 'G/1499/S' 'G/1500/S' 'E/608/S']\n",
      "Destination\n",
      "['TRAPPIST-1e' 'PSO J318.5-22' '55 Cancri e' nan]\n",
      "Age\n",
      "[39. 24. 58. 33. 16. 44. 26. 28. 35. 14. 34. 45. 32. 48. 31. 27.  0.  1.\n",
      " 49. 29. 10.  7. 21. 62. 15. 43. 47.  2. 20. 23. 30. 17. 55.  4. 19. 56.\n",
      " nan 25. 38. 36. 22. 18. 42. 37. 13.  8. 40.  3. 54.  9.  6. 64. 67. 61.\n",
      " 50. 41. 57. 11. 52. 51. 46. 60. 63. 59.  5. 79. 68. 74. 12. 53. 65. 71.\n",
      " 75. 70. 76. 78. 73. 66. 69. 72. 77.]\n",
      "VIP\n",
      "[False True nan]\n",
      "RoomService\n",
      "[   0.  109.   43. ... 1569. 8586.  745.]\n",
      "FoodCourt\n",
      "[   0.    9. 3576. ... 3208. 6819. 4688.]\n",
      "ShoppingMall\n",
      "[   0.   25.  371. ... 1085.  510. 1872.]\n",
      "Spa\n",
      "[   0.  549. 6715. ... 2868. 1107. 1643.]\n",
      "VRDeck\n",
      "[   0.   44.   49. ... 1164.  971. 3235.]\n",
      "Name\n",
      "['Maham Ofracculy' 'Juanna Vines' 'Altark Susent' ... 'Fayey Connon'\n",
      " 'Celeon Hontichre' 'Propsh Hontichre']\n",
      "Transported\n",
      "[False  True]\n"
     ]
    }
   ],
   "source": [
    "for column in train.columns:\n",
    "    print(f'{column}\\n{train[column].unique()}')"
   ]
  },
  {
   "cell_type": "code",
   "execution_count": 4,
   "id": "d22d57f3",
   "metadata": {},
   "outputs": [
    {
     "data": {
      "text/plain": [
       "PassengerId       0\n",
       "HomePlanet       87\n",
       "CryoSleep        93\n",
       "Cabin           100\n",
       "Destination      92\n",
       "Age              91\n",
       "VIP              93\n",
       "RoomService      82\n",
       "FoodCourt       106\n",
       "ShoppingMall     98\n",
       "Spa             101\n",
       "VRDeck           80\n",
       "Name             94\n",
       "dtype: int64"
      ]
     },
     "execution_count": 4,
     "metadata": {},
     "output_type": "execute_result"
    }
   ],
   "source": [
    "# Filling nulls:\n",
    "train.isnull().sum()"
   ]
  },
  {
   "cell_type": "code",
   "execution_count": 5,
   "id": "93577b59",
   "metadata": {
    "scrolled": true
   },
   "outputs": [
    {
     "name": "stdout",
     "output_type": "stream",
     "text": [
      "      RoomService  FoodCourt  ShoppingMall  Spa  VRDeck\n",
      "0             0.0        0.0           0.0  0.0     0.0\n",
      "2             0.0        0.0           0.0  0.0     0.0\n",
      "6             0.0        NaN           0.0  0.0     0.0\n",
      "7             0.0        0.0           0.0  0.0     0.0\n",
      "8             0.0        0.0           0.0  0.0     0.0\n",
      "...           ...        ...           ...  ...     ...\n",
      "4267          0.0        0.0           0.0  0.0     0.0\n",
      "4269          0.0        0.0           0.0  0.0     0.0\n",
      "4272          0.0        0.0           0.0  0.0     0.0\n",
      "4274          0.0        0.0           0.0  0.0     0.0\n",
      "4276          0.0        0.0           0.0  0.0     0.0\n",
      "\n",
      "[1544 rows x 5 columns]\n"
     ]
    }
   ],
   "source": [
    "filt = train['CryoSleep'] == True\n",
    "print(train.loc[filt, 'RoomService':'VRDeck'])"
   ]
  },
  {
   "cell_type": "code",
   "execution_count": 6,
   "id": "71bf6523",
   "metadata": {},
   "outputs": [],
   "source": [
    "for column in train.loc[:, 'RoomService':'VRDeck'].columns:\n",
    "    train[column].fillna(train.loc[:, 'RoomService':'VRDeck'].mean(axis=1), inplace=True)"
   ]
  },
  {
   "cell_type": "code",
   "execution_count": 7,
   "id": "29e7dfe9",
   "metadata": {},
   "outputs": [],
   "source": [
    "train.insert(12, 'SpendedMoney', train.loc[:, 'RoomService':'VRDeck'].sum(axis=1))"
   ]
  },
  {
   "cell_type": "code",
   "execution_count": 8,
   "id": "c2a82d11",
   "metadata": {},
   "outputs": [],
   "source": [
    "train.loc[(train['CryoSleep'].isnull()) & (train['SpendedMoney'] == 0), 'CryoSleep'] = True\n",
    "train.loc[(train['CryoSleep'].isnull()) & (train['SpendedMoney'] > 0), 'CryoSleep'] = False"
   ]
  },
  {
   "cell_type": "code",
   "execution_count": 9,
   "id": "1c6e6dc8",
   "metadata": {},
   "outputs": [],
   "source": [
    "train['Age'].fillna(train['Age'].mean().round(), inplace=True)"
   ]
  },
  {
   "cell_type": "code",
   "execution_count": 10,
   "id": "715d9f05",
   "metadata": {},
   "outputs": [],
   "source": [
    "mean_VIP_SpendedMoney = train.loc[train['VIP'] == True, 'SpendedMoney'].mean()\n",
    "train.loc[train['VIP'].isnull() & (train['SpendedMoney'] > mean_VIP_SpendedMoney), 'VIP'] = True\n",
    "train.loc[train['VIP'].isnull() & (train['SpendedMoney'] <= mean_VIP_SpendedMoney), 'VIP'] = False"
   ]
  },
  {
   "cell_type": "code",
   "execution_count": 11,
   "id": "f80dd7f1",
   "metadata": {},
   "outputs": [],
   "source": [
    "columns_to_fill_nulls = ['HomePlanet', 'Cabin', 'Destination']\n",
    "for column in columns_to_fill_nulls:\n",
    "    column_probabilities = [train[column].value_counts()[unique_value]/train[column].value_counts().sum()\n",
    "                           for unique_value in train[column].value_counts().index]\n",
    "    for i, cell in enumerate(train[column].isnull()):\n",
    "        if cell:\n",
    "            train.loc[i, column] = choice(train[column].value_counts().index, p=column_probabilities)"
   ]
  },
  {
   "cell_type": "code",
   "execution_count": 12,
   "id": "1d16ce56",
   "metadata": {},
   "outputs": [],
   "source": [
    "splitted_cabin = train['Cabin'].str.split('/')\n",
    "splitted_cabin_df = pd.DataFrame.from_dict(dict(zip(splitted_cabin.index, splitted_cabin.values))).T\n",
    "splitted_cabin_df.rename(columns= {0: 'Deck',\n",
    "                                   1: 'Num',\n",
    "                                   2: 'Side'}, inplace=True)"
   ]
  },
  {
   "cell_type": "code",
   "execution_count": 13,
   "id": "f0649f68",
   "metadata": {},
   "outputs": [],
   "source": [
    "splitted_cabin_df\n",
    "train_part1 = train.iloc[:, 0:4]\n",
    "train_part2 = train.iloc[:, 4:]\n",
    "train = pd.concat([train_part1, splitted_cabin_df, train_part2], axis=1)\n",
    "train.drop(columns=['PassengerId',\n",
    "                    'Cabin',\n",
    "                    'Name'], inplace=True)"
   ]
  },
  {
   "cell_type": "code",
   "execution_count": 14,
   "id": "3bb78ad7",
   "metadata": {},
   "outputs": [
    {
     "data": {
      "text/plain": [
       "HomePlanet      0\n",
       "CryoSleep       0\n",
       "Deck            0\n",
       "Num             0\n",
       "Side            0\n",
       "Destination     0\n",
       "Age             0\n",
       "VIP             0\n",
       "RoomService     0\n",
       "FoodCourt       0\n",
       "ShoppingMall    0\n",
       "Spa             0\n",
       "VRDeck          0\n",
       "SpendedMoney    0\n",
       "dtype: int64"
      ]
     },
     "execution_count": 14,
     "metadata": {},
     "output_type": "execute_result"
    }
   ],
   "source": [
    "train.isnull().sum()"
   ]
  },
  {
   "cell_type": "code",
   "execution_count": 15,
   "id": "2e08f19a",
   "metadata": {},
   "outputs": [],
   "source": [
    "train.to_csv('filled_nans_train.csv', index=False)"
   ]
  },
  {
   "cell_type": "code",
   "execution_count": 16,
   "id": "396cb4d4",
   "metadata": {},
   "outputs": [],
   "source": [
    "# Mapping:\n",
    "train = pd.read_csv('filled_nans_train.csv')\n",
    "test = pd.read_csv('filled_nans_test.csv')\n",
    "columns_to_map = ['HomePlanet', 'Deck', 'Side', 'Destination']\n",
    "for column in columns_to_map:\n",
    "    column_data = train[column]\n",
    "    unique_values = column_data.unique()\n",
    "    categories = {unique_values: i for i, unique_values in enumerate(unique_values)}\n",
    "    train[column] = column_data.map(categories)\n",
    "    test[column] = test[column].map(categories)\n",
    "train.to_csv('handled_train.csv', index=False)\n",
    "test.to_csv('handled_test.csv', index=False)\n"
   ]
  }
 ],
 "metadata": {
  "kernelspec": {
   "display_name": "Python 3 (ipykernel)",
   "language": "python",
   "name": "python3"
  },
  "language_info": {
   "codemirror_mode": {
    "name": "ipython",
    "version": 3
   },
   "file_extension": ".py",
   "mimetype": "text/x-python",
   "name": "python",
   "nbconvert_exporter": "python",
   "pygments_lexer": "ipython3",
   "version": "3.10.10"
  }
 },
 "nbformat": 4,
 "nbformat_minor": 5
}
