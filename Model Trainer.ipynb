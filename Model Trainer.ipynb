{
 "cells": [
  {
   "cell_type": "code",
   "execution_count": null,
   "id": "afaacce7",
   "metadata": {},
   "outputs": [],
   "source": [
    "import pandas as pd\n",
    "from catboost import CatBoostClassifier\n",
    "from sklearn import metrics\n",
    "from sklearn.model_selection import train_test_split\n",
    "from sklearn.feature_selection import SequentialFeatureSelector"
   ]
  },
  {
   "cell_type": "code",
   "execution_count": 2,
   "id": "cfba3635",
   "metadata": {},
   "outputs": [],
   "source": [
    "train_data = pd.read_csv('handled_train.csv')\n",
    "target = train_data['Transported'].astype('int')\n",
    "train_data.drop(columns = 'Transported', inplace=True)"
   ]
  },
  {
   "cell_type": "code",
   "execution_count": 3,
   "id": "3ff81325",
   "metadata": {},
   "outputs": [],
   "source": [
    "x_train, x_test, y_train, y_test = train_test_split(train_data, target, test_size=0.2)"
   ]
  },
  {
   "cell_type": "code",
   "execution_count": 4,
   "id": "632efe7f",
   "metadata": {},
   "outputs": [],
   "source": [
    "parameters =  {'depth': 5,\n",
    "               'iterations': 2000,\n",
    "               'learning_rate': 0.01, \n",
    "               'verbose': False}"
   ]
  },
  {
   "cell_type": "code",
   "execution_count": 5,
   "id": "41cbcb97",
   "metadata": {
    "scrolled": true
   },
   "outputs": [],
   "source": [
    "# cbc = CatBoostClassifier(**parameters)\n",
    "\n",
    "# sfs = SequentialFeatureSelector(cbc, \n",
    "#                                 scoring='accuracy', \n",
    "#                                 direction = 'backward')\n",
    "# sfs.fit(x_train, y_train)\n",
    "\n",
    "# final_features = list(sfs.get_feature_names_out())\n",
    "# print(final_features)"
   ]
  },
  {
   "cell_type": "code",
   "execution_count": 6,
   "id": "096db1e4",
   "metadata": {},
   "outputs": [],
   "source": [
    "# Result: \n",
    "final_features = ['Deck', 'Num', 'Side', 'RoomService', 'Spa', 'VRDeck', 'SpendedMoney']\n",
    "train_data = train_data.loc[:, final_features]\n",
    "x_train, x_test, y_train, y_test = train_test_split(train_data, target, test_size=0.2)"
   ]
  },
  {
   "cell_type": "code",
   "execution_count": 7,
   "id": "f2b28a84",
   "metadata": {},
   "outputs": [],
   "source": [
    "training_attempts = 100\n",
    "max_perf = 0\n",
    "for i in range(training_attempts):\n",
    "    cbc = CatBoostClassifier(**parameters)\n",
    "    cbc.fit(x_train, y_train)\n",
    "    predictions = cbc.predict(x_test)\n",
    "    perf = metrics.f1_score(predictions, y_test)\n",
    "    if perf > max_perf:\n",
    "        max_perf = perf\n",
    "        best_cbc = cbc"
   ]
  },
  {
   "cell_type": "code",
   "execution_count": 9,
   "id": "d81a18f3",
   "metadata": {},
   "outputs": [
    {
     "name": "stdout",
     "output_type": "stream",
     "text": [
      "Best Train Accuracy: 0.8415211801326296\n"
     ]
    }
   ],
   "source": [
    "best_train_perf = metrics.f1_score(best_cbc.predict(x_train), y_train)\n",
    "print(f'Best Train Accuracy: {best_train_perf}')"
   ]
  },
  {
   "cell_type": "code",
   "execution_count": 12,
   "id": "cac6e253",
   "metadata": {},
   "outputs": [
    {
     "name": "stdout",
     "output_type": "stream",
     "text": [
      "Best Test Accuracy: 0.8223896663078579\n"
     ]
    }
   ],
   "source": [
    "best_test_perf = metrics.f1_score(best_cbc.predict(x_test), y_test)\n",
    "print(f'Best Test Accuracy: {best_test_perf}')"
   ]
  },
  {
   "cell_type": "code",
   "execution_count": 13,
   "id": "0826f77e",
   "metadata": {},
   "outputs": [],
   "source": [
    "test_data = pd.read_csv('handled_test.csv')\n",
    "test_passengers_id = pd.read_csv('test.csv')['PassengerId']\n",
    "\n",
    "test_predictions = pd.Series(best_cbc.predict(test_data).astype('bool'))\n",
    "submission_df = pd.DataFrame({'PassengerId': test_passengers_id,\n",
    "                              'Transported': test_predictions})\n",
    "submission_df.to_csv(f'CatBoostClassifier with f1 metric and {training_attempts} training attempts.csv', index=False)"
   ]
  },
  {
   "cell_type": "code",
   "execution_count": null,
   "id": "8500a938",
   "metadata": {},
   "outputs": [],
   "source": []
  }
 ],
 "metadata": {
  "kernelspec": {
   "display_name": "Python 3 (ipykernel)",
   "language": "python",
   "name": "python3"
  },
  "language_info": {
   "codemirror_mode": {
    "name": "ipython",
    "version": 3
   },
   "file_extension": ".py",
   "mimetype": "text/x-python",
   "name": "python",
   "nbconvert_exporter": "python",
   "pygments_lexer": "ipython3",
   "version": "3.10.10"
  }
 },
 "nbformat": 4,
 "nbformat_minor": 5
}
